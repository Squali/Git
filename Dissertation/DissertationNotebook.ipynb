{
 "cells": [
  {
   "cell_type": "markdown",
   "metadata": {},
   "source": [
    "# Modelization of a social Network"
   ]
  },
  {
   "cell_type": "markdown",
   "metadata": {},
   "source": [
    "## I Community representation\n"
   ]
  },
  {
   "cell_type": "markdown",
   "metadata": {},
   "source": [
    "### 1) Packages"
   ]
  },
  {
   "cell_type": "code",
   "execution_count": 27,
   "metadata": {},
   "outputs": [],
   "source": [
    "import scipy.optimize as opt\n",
    "import numpy as np\n",
    "from math import *\n",
    "import matplotlib.pyplot as plt\n",
    "from DataSet import generateDataSet"
   ]
  },
  {
   "cell_type": "markdown",
   "metadata": {},
   "source": [
    "### 2) Definition of the posterior"
   ]
  },
  {
   "cell_type": "markdown",
   "metadata": {},
   "source": [
    "After Computation we obtain the following posterior:"
   ]
  },
  {
   "cell_type": "code",
   "execution_count": 57,
   "metadata": {},
   "outputs": [],
   "source": [
    "\n",
    "## Compute the lambdas\n",
    "def strength(i,j,p,vec):\n",
    "    summ = 0\n",
    "    for l in range(p):\n",
    "        summ += vec[i,l]*vec[j,l]\n",
    "    return summ\n",
    "\n",
    "# n : Population / p : Number of communities / k : Number of ranks / a,b : Gamma parameters / w = Community parameter\n",
    "#/ rho : Data rho[i,j] jth selection of the ith person\n",
    "def posterior(n,p,k,a,b,w,rho):\n",
    "    vec = w.reshape((n,p))\n",
    "    summa = 0\n",
    "    for i in range(n):\n",
    "        for u in range(p):\n",
    "            summa += (a-1)*log(abs(vec[i,u]) + 0.000000000000001) - b*vec[i,u]\n",
    "        totalStrength = 0\n",
    "        listIndex = [l for l in range(n)]\n",
    "        del listIndex[i]\n",
    "        for u in (listIndex):\n",
    "            totalStrength += strength(i,u,p,vec)\n",
    "        stateStrength = 0\n",
    "        for j in range(k):\n",
    "            totalStrength -= stateStrength\n",
    "            summa -= log(abs(totalStrength) + 0.000000000000001)\n",
    "            stateStrength = strength(i,rho[i,j],p,vec)\n",
    "            summa += log(abs(stateStrength) + 0.000000000000001)\n",
    "    #print(\"Flag Optimization\", summa)\n",
    "    return summa"
   ]
  },
  {
   "cell_type": "markdown",
   "metadata": {},
   "source": [
    "### 3) Optimization"
   ]
  },
  {
   "cell_type": "code",
   "execution_count": 60,
   "metadata": {},
   "outputs": [],
   "source": [
    "def optimize(n,p ,k,a,b,rho,w0):\n",
    "    costFunction = lambda w : (-1)*posterior(n,p,k,a,b,w,rho)\n",
    "    #w0 = (1/p)*np.ones(n*p) ## Initialization\n",
    "    consMat = [[1 for i in range(p)] + [0 for i in range((n-1)*p)]] + [([0 for i in range(j*p)] + [1 for i in range(p)] + [0 for i in range((n-j-1)*p)]) for j in range(1,n-1)] + [[0 for i in range((n-1)*p)] + [1 for i in range(p)]]\n",
    "    A = np.concatenate((np.eye(n*p), np.array(consMat)), axis=0)\n",
    "    lowb = np.array([0 for i in range(n*p)] + [1 for i in range(n)])\n",
    "    uppb = np.array([1 for i in range(n*(p+1))])\n",
    "    return opt.minimize(costFunction,w0,bounds = [(0,1) for i in range(n*p)])"
   ]
  },
  {
   "cell_type": "markdown",
   "metadata": {},
   "source": [
    "## II Test"
   ]
  },
  {
   "cell_type": "markdown",
   "metadata": {},
   "source": [
    "### 1) Data Generation"
   ]
  },
  {
   "cell_type": "markdown",
   "metadata": {},
   "source": [
    "##### Random Generation"
   ]
  },
  {
   "cell_type": "code",
   "execution_count": 5,
   "metadata": {},
   "outputs": [],
   "source": [
    "n = 40\n",
    "p = 3\n",
    "k = 4\n",
    "a = 1\n",
    "b = 1\n",
    "def generateRank(n,k):\n",
    "    sol = [np.random.choice([j for j in range(i-1)] + [j for j in range(i,n)], k, replace = False) for i in range(n)]\n",
    "    return np.array(sol)\n",
    "rho = generateRank(n,k)"
   ]
  },
  {
   "cell_type": "markdown",
   "metadata": {},
   "source": [
    "##### Sampson's Data Set"
   ]
  },
  {
   "cell_type": "code",
   "execution_count": 55,
   "metadata": {},
   "outputs": [],
   "source": [
    "## Convert the array from the Sampson's DataSet in the format of the data in the dissertation Proposal\n",
    "def dataProcessing(arr,k):\n",
    "    r,s = arr.shape\n",
    "    sol = np.zeros((r,k),dtype = 'int')\n",
    "    for i in range(r):\n",
    "        for j in range(1,k+1):\n",
    "            for l in range(s):\n",
    "                if arr[i,l] == j:\n",
    "                    sol[i,j-1] = int(l)\n",
    "    return sol"
   ]
  },
  {
   "cell_type": "code",
   "execution_count": 56,
   "metadata": {},
   "outputs": [],
   "source": [
    "listData = generateDataSet()\n",
    "arr = listData[0]\n",
    "n,p = arr.shape\n",
    "k = 3\n",
    "p = 3\n",
    "a = 1\n",
    "b = 1\n",
    "rho = dataProcessing(arr,k)"
   ]
  },
  {
   "cell_type": "markdown",
   "metadata": {},
   "source": [
    "### 2) Posterior Minimization"
   ]
  },
  {
   "cell_type": "code",
   "execution_count": 59,
   "metadata": {},
   "outputs": [
    {
     "name": "stdout",
     "output_type": "stream",
     "text": [
      "(72, 54)\n",
      "(72, 54)\n",
      "105.9288105974957\n",
      "(72, 54)\n",
      "(72, 54)\n",
      "(72, 54)\n",
      "(72, 54)\n",
      "(72, 54)\n",
      "(72, 54)\n",
      "(72, 54)\n",
      "(72, 54)\n",
      "(72, 54)\n",
      "(72, 54)\n",
      "(72, 54)\n",
      "(72, 54)\n",
      "(72, 54)\n",
      "(72, 54)\n",
      "(72, 54)\n",
      "(72, 54)\n",
      "(72, 54)\n",
      "(72, 54)\n",
      "(72, 54)\n",
      "(72, 54)\n",
      "(72, 54)\n",
      "(72, 54)\n",
      "(72, 54)\n",
      "(72, 54)\n",
      "(72, 54)\n",
      "(72, 54)\n",
      "(72, 54)\n",
      "(72, 54)\n",
      "(72, 54)\n",
      "(72, 54)\n",
      "(72, 54)\n",
      "(72, 54)\n",
      "(72, 54)\n",
      "(72, 54)\n",
      "(72, 54)\n",
      "(72, 54)\n",
      "(72, 54)\n",
      "(72, 54)\n",
      "(72, 54)\n",
      "(72, 54)\n",
      "(72, 54)\n",
      "(72, 54)\n",
      "(72, 54)\n",
      "(72, 54)\n",
      "(72, 54)\n",
      "(72, 54)\n",
      "(72, 54)\n",
      "(72, 54)\n",
      "(72, 54)\n",
      "(72, 54)\n",
      "(72, 54)\n",
      "(72, 54)\n",
      "(72, 54)\n",
      "(72, 54)\n",
      "(72, 54)\n",
      "(72, 54)\n",
      "(72, 54)\n",
      "(72, 54)\n",
      "(72, 54)\n",
      "(72, 54)\n",
      "(72, 54)\n",
      "(72, 54)\n",
      "(72, 54)\n",
      "(72, 54)\n",
      "(72, 54)\n",
      "(72, 54)\n",
      "(72, 54)\n",
      "(72, 54)\n",
      "(72, 54)\n",
      "(72, 54)\n",
      "(72, 54)\n",
      "(72, 54)\n",
      "(72, 54)\n",
      "(72, 54)\n",
      "(72, 54)\n",
      "(72, 54)\n",
      "(72, 54)\n",
      "(72, 54)\n",
      "(72, 54)\n",
      "(72, 54)\n",
      "(72, 54)\n",
      "(72, 54)\n",
      "(72, 54)\n",
      "(72, 54)\n",
      "(72, 54)\n",
      "(72, 54)\n",
      "(72, 54)\n",
      "(72, 54)\n",
      "(72, 54)\n",
      "(72, 54)\n",
      "(72, 54)\n",
      "(72, 54)\n",
      "(72, 54)\n",
      "(72, 54)\n",
      "(72, 54)\n",
      "(72, 54)\n",
      "(72, 54)\n",
      "(72, 54)\n",
      "(72, 54)\n",
      "(72, 54)\n",
      "(72, 54)\n",
      "(72, 54)\n",
      "(72, 54)\n",
      "(72, 54)\n",
      "(72, 54)\n",
      "(72, 54)\n",
      "(72, 54)\n",
      "(72, 54)\n",
      "(72, 54)\n",
      "(72, 54)\n",
      "(72, 54)\n",
      "(72, 54)\n",
      "(72, 54)\n",
      "(72, 54)\n",
      "(72, 54)\n",
      "(72, 54)\n",
      "102.65322056610917\n",
      "(72, 54)\n",
      "(72, 54)\n",
      "(72, 54)\n",
      "(72, 54)\n",
      "(72, 54)\n",
      "(72, 54)\n",
      "(72, 54)\n",
      "(72, 54)\n",
      "(72, 54)\n",
      "(72, 54)\n",
      "(72, 54)\n",
      "(72, 54)\n",
      "(72, 54)\n",
      "(72, 54)\n",
      "(72, 54)\n",
      "(72, 54)\n",
      "(72, 54)\n",
      "(72, 54)\n",
      "(72, 54)\n",
      "(72, 54)\n",
      "(72, 54)\n",
      "(72, 54)\n",
      "(72, 54)\n",
      "(72, 54)\n",
      "(72, 54)\n",
      "(72, 54)\n",
      "(72, 54)\n",
      "(72, 54)\n",
      "(72, 54)\n",
      "(72, 54)\n",
      "(72, 54)\n",
      "(72, 54)\n",
      "(72, 54)\n",
      "(72, 54)\n",
      "(72, 54)\n",
      "(72, 54)\n",
      "(72, 54)\n",
      "(72, 54)\n",
      "(72, 54)\n",
      "(72, 54)\n",
      "(72, 54)\n",
      "(72, 54)\n",
      "(72, 54)\n",
      "(72, 54)\n",
      "(72, 54)\n",
      "(72, 54)\n",
      "(72, 54)\n",
      "(72, 54)\n",
      "(72, 54)\n",
      "(72, 54)\n",
      "(72, 54)\n",
      "(72, 54)\n",
      "(72, 54)\n",
      "(72, 54)\n",
      "(72, 54)\n",
      "(72, 54)\n",
      "(72, 54)\n",
      "(72, 54)\n",
      "(72, 54)\n",
      "(72, 54)\n",
      "(72, 54)\n",
      "(72, 54)\n",
      "(72, 54)\n",
      "(72, 54)\n",
      "(72, 54)\n",
      "(72, 54)\n",
      "(72, 54)\n",
      "(72, 54)\n",
      "(72, 54)\n",
      "(72, 54)\n",
      "(72, 54)\n",
      "(72, 54)\n",
      "(72, 54)\n",
      "(72, 54)\n",
      "(72, 54)\n",
      "(72, 54)\n",
      "(72, 54)\n",
      "(72, 54)\n",
      "(72, 54)\n",
      "(72, 54)\n",
      "(72, 54)\n",
      "(72, 54)\n",
      "(72, 54)\n",
      "102.65322056610917 [0.23577325 0.15362507 0.43325226 0.18777684 0.03475494 0.47361819\n",
      " 0.         0.         0.19218582 0.         0.29223243 0.\n",
      " 0.         0.52536869 0.         0.         0.09493313 0.\n",
      " 0.         0.         0.49863104 0.00736319 0.31239259 0.26719613\n",
      " 0.         0.27002699 0.03013123 0.03654168 0.15007752 0.\n",
      " 0.12233403 0.21324409 0.         0.         0.         0.\n",
      " 0.         0.09168993 0.12154583 0.99562822 0.         0.\n",
      " 0.17494576 0.         0.         0.         0.02091257 0.17956197\n",
      " 0.         0.         0.09566999 0.         0.         0.19790097]\n"
     ]
    }
   ],
   "source": [
    "w0 =  np.random.rand(n*p)\n",
    "result = optimize(n,p ,k,a,b,rho,w0)\n",
    "minimum, xminimum = result.fun, result.x\n",
    "for i in range(200):\n",
    "    w0 =  np.random.rand(n*p)\n",
    "    result = optimize(n,p ,k,a,b,rho,w0)\n",
    "    if result.fun < minimum:\n",
    "        minimum, xminimum = result.fun, result.x\n",
    "        print(minimum)\n",
    "print(minimum, xminimum)"
   ]
  },
  {
   "cell_type": "markdown",
   "metadata": {},
   "source": [
    "### Result Processing"
   ]
  },
  {
   "cell_type": "code",
   "execution_count": 62,
   "metadata": {},
   "outputs": [
    {
     "name": "stdout",
     "output_type": "stream",
     "text": [
      "[[0.23577325 0.15362507 0.43325226]\n",
      " [0.18777684 0.03475494 0.47361819]\n",
      " [0.         0.         0.19218582]\n",
      " [0.         0.29223243 0.        ]\n",
      " [0.         0.52536869 0.        ]\n",
      " [0.         0.09493313 0.        ]\n",
      " [0.         0.         0.49863104]\n",
      " [0.00736319 0.31239259 0.26719613]\n",
      " [0.         0.27002699 0.03013123]\n",
      " [0.03654168 0.15007752 0.        ]\n",
      " [0.12233403 0.21324409 0.        ]\n",
      " [0.         0.         0.        ]\n",
      " [0.         0.09168993 0.12154583]\n",
      " [0.99562822 0.         0.        ]\n",
      " [0.17494576 0.         0.        ]\n",
      " [0.         0.02091257 0.17956197]\n",
      " [0.         0.         0.09566999]\n",
      " [0.         0.         0.19790097]]\n"
     ]
    },
    {
     "data": {
      "text/plain": [
       "-102.65322056610917"
      ]
     },
     "execution_count": 62,
     "metadata": {},
     "output_type": "execute_result"
    }
   ],
   "source": [
    "x = xminimum.reshape((n,p))\n",
    "print(x)\n",
    "posterior(n,p,k,a,b,x,rho)"
   ]
  },
  {
   "cell_type": "code",
   "execution_count": null,
   "metadata": {
    "scrolled": true
   },
   "outputs": [],
   "source": [
    "l = 20000\n",
    "def normalize(n,p,arr):\n",
    "    arr2 = arr.reshape((n,p))\n",
    "    for i in range(n):\n",
    "        arr2[i] = (arr2[i])/(sum(arr2[i]))\n",
    "    return arr2.reshape((n*p,))\n",
    "listSobol = sobol_seq.i4_sobol_generate(n*p, 20000)\n",
    "sol = 0\n",
    "for i in range(l):\n",
    "    te = (posterior(n,p,k,a,b,normalize(n,p,listSobol[i]),rho))\n",
    "    if te < sol:\n",
    "        sol = te\n",
    "print(sol)"
   ]
  },
  {
   "cell_type": "code",
   "execution_count": null,
   "metadata": {},
   "outputs": [],
   "source": []
  }
 ],
 "metadata": {
  "kernelspec": {
   "display_name": "Python 3",
   "language": "python",
   "name": "python3"
  },
  "language_info": {
   "codemirror_mode": {
    "name": "ipython",
    "version": 3
   },
   "file_extension": ".py",
   "mimetype": "text/x-python",
   "name": "python",
   "nbconvert_exporter": "python",
   "pygments_lexer": "ipython3",
   "version": "3.6.6"
  }
 },
 "nbformat": 4,
 "nbformat_minor": 2
}
