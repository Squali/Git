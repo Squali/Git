{
 "cells": [
  {
   "cell_type": "markdown",
   "metadata": {},
   "source": [
    "## Coordinate-wise optimization"
   ]
  },
  {
   "cell_type": "markdown",
   "metadata": {},
   "source": [
    "### Package"
   ]
  },
  {
   "cell_type": "code",
   "execution_count": 1,
   "metadata": {},
   "outputs": [],
   "source": [
    "import scipy.optimize as opt\n",
    "import numpy as np\n",
    "from math import *\n",
    "import matplotlib.pyplot as plt\n",
    "from DataSet import generateDataSet\n",
    "from igraph import *\n",
    "from mpl_toolkits.mplot3d import Axes3D\n",
    "import matplotlib.style\n",
    "import matplotlib as mpl\n",
    "mpl.style.use('classic')\n",
    "from igraph import *\n",
    "from DataSet import generateDataSet"
   ]
  },
  {
   "cell_type": "code",
   "execution_count": 2,
   "metadata": {},
   "outputs": [],
   "source": [
    "## Compute the lambdas\n",
    "def strength(i,j,p,vec):\n",
    "    summ = 0\n",
    "    for l in range(p):\n",
    "        summ += vec[i,l]*vec[j,l]\n",
    "    return summ\n",
    "\n",
    "# n : Population / p : Number of communities / k : Number of ranks / a,b : Gamma parameters / w = Community parameter\n",
    "#/ rho : Data rho[i,j] jth selection of the ith person\n",
    "def posterior(n,p,k,a,b,w,rho):\n",
    "    vec = w.reshape((n,p))\n",
    "    summa = 0\n",
    "    for i in range(n):\n",
    "        for u in range(p):\n",
    "            if vec[i,u] == 0:\n",
    "                summa += (a-1)*log(0.0000000001) - b*vec[i,u]\n",
    "            else:\n",
    "                summa += (a-1)*log(abs(vec[i,u])) - b*vec[i,u]\n",
    "        totalStrength = 0\n",
    "        listIndex = [l for l in range(n)]\n",
    "        del listIndex[i]\n",
    "        for u in (listIndex):\n",
    "            totalStrength += strength(i,u,p,vec)\n",
    "        stateStrength = 0\n",
    "        for j in range(k):\n",
    "            totalStrength -= stateStrength\n",
    "            summa -= log(abs(totalStrength))\n",
    "            stateStrength = strength(i,rho[i,j],p,vec)\n",
    "            summa += log(abs(stateStrength))\n",
    "    return summa"
   ]
  },
  {
   "cell_type": "code",
   "execution_count": 3,
   "metadata": {},
   "outputs": [],
   "source": [
    "# n : Population / p : Number of communities / k : Number of ranks / a,b : Gamma parameters / w = Community parameter\n",
    "#/ rho : Data rho[i,j] jth selection of the ith person\n",
    "def posteriorCorrection(n,p,k,w,rho):\n",
    "    wPrior = w[:(p+2)]\n",
    "    wLH = w[(p+2):]\n",
    "    vec = wLH.reshape((n,p))\n",
    "    summa = 0\n",
    "    for i in range(n):\n",
    "        for u in range(p):\n",
    "            if vec[i,u] == 0:\n",
    "                summa += (wPrior[0]-1)*log(0.0000000001) - wPrior[1 + u]*vec[i,u]\n",
    "            else:\n",
    "                summa += (wPrior[0]-1)*log(abs(vec[i,u])) - wPrior[1 + u]*vec[i,u]\n",
    "        totalStrength = 0\n",
    "        listIndex = [l for l in range(n)]\n",
    "        del listIndex[i]\n",
    "        for u in (listIndex):\n",
    "            totalStrength += strength(i,u,p,vec)\n",
    "        stateStrength = 0\n",
    "        for j in range(k):\n",
    "            totalStrength -= stateStrength\n",
    "            summa -= log(abs(totalStrength))\n",
    "            stateStrength = strength(i,rho[i,j],p,vec)\n",
    "            summa += log(abs(stateStrength))\n",
    "    return summa"
   ]
  },
  {
   "cell_type": "markdown",
   "metadata": {},
   "source": [
    "### Test Optimization"
   ]
  },
  {
   "cell_type": "code",
   "execution_count": 4,
   "metadata": {
    "scrolled": true
   },
   "outputs": [
    {
     "name": "stdout",
     "output_type": "stream",
     "text": [
      "[3.76117061 2.585256   3.0820865  2.89744263 6.40634146 8.30572268\n",
      " 3.26549168 1.97409035 5.06494525 8.74595801 2.81370033 8.88955102\n",
      " 1.65865919 7.64828598 3.13884956 2.60357714 2.70035689 2.17775376\n",
      " 3.20481688 0.29261686 5.33724564 9.02675799 1.10781376 5.80230625\n",
      " 1.50600717 3.32285936 1.85729698 3.05576643 4.62051928 9.10232229\n",
      " 0.66884312 8.82856464 0.39528697 2.22030131 4.98409369 0.34425034\n",
      " 3.723304   8.90219838 3.55965605 5.07011946 6.52767569 6.4555308\n",
      " 4.58209849 5.84654505 5.85299622 5.8364581  0.67134497 8.94285229\n",
      " 1.77375368 9.40035017 7.94530889 8.3134003  9.13504362 4.33568998\n",
      " 0.80491033 6.78263388 5.75009036 9.95931848 3.27652544 9.03768234\n",
      " 2.48530743 3.43983872 9.60952327 9.75664325 7.30364242 3.90204996\n",
      " 4.12955946 3.91777821 2.17384188 4.18598053 5.81572725 0.27737982\n",
      " 1.61985789 8.62567927 2.7775107  6.53917116 4.00664247 6.63776451\n",
      " 7.91881054 1.49765243 5.33430035 4.2802871  2.7079458  1.73010668\n",
      " 9.92364875 9.62114064 2.43890421 9.39984828 9.41019933 9.47131638\n",
      " 9.09988418 8.32276208 7.97164674 0.31937809 9.90676805 7.88871906\n",
      " 9.35574615 3.78438562 2.81762014 7.62380824 0.22249968 3.67141385\n",
      " 8.62589321 5.90680631 8.34182378 1.77155487 2.72185409 7.1477596\n",
      " 1.98464675 5.96259439 0.73795315 9.50937868 1.6626113  1.15683419\n",
      " 2.52855719 9.67453749 0.7416121  3.48630843 0.51378267]\n"
     ]
    }
   ],
   "source": [
    "n = 40\n",
    "p = 3\n",
    "k = 4\n",
    "a = 2\n",
    "b = 1\n",
    "def generateRank(n,k):\n",
    "    sol = [np.random.choice([j for j in range(i)] + [j for j in range(i + 1,n)], k, replace = False) for i in range(n)]\n",
    "    return np.array(sol)\n",
    "rho = generateRank(n,k)\n",
    "w = 10*np.random.rand(n*p - 1)\n",
    "print(w)"
   ]
  },
  {
   "cell_type": "code",
   "execution_count": 5,
   "metadata": {},
   "outputs": [
    {
     "data": {
      "image/png": "[encoded data removed]",
      "text/plain": [
       "<Figure size 432x288 with 1 Axes>"
      ]
     },
     "metadata": {
      "needs_background": "light"
     },
     "output_type": "display_data"
    }
   ],
   "source": [
    "lin1 = np.linspace(0.001,5,750)\n",
    "yVals = [posterior(n,p,k,a,b,np.insert(w,0,val),rho) for val in lin1]\n",
    "plt.plot(lin1,yVals)\n",
    "plt.savefig(\"CoordinateWiseFunction.png\")"
   ]
  },
  {
   "cell_type": "markdown",
   "metadata": {},
   "source": [
    "### Coordinate Wise Optimization"
   ]
  },
  {
   "cell_type": "code",
   "execution_count": 6,
   "metadata": {},
   "outputs": [],
   "source": [
    "def optimizeCoor(n,p,k,a,b,rho,eps):\n",
    "    w = 10*np.random.rand(n*p)\n",
    "    val = posterior(n,p,k,a,b,w,rho)\n",
    "    flag = True\n",
    "    while flag:\n",
    "        for i in range(n*p):\n",
    "            w1 = np.delete(w,i)\n",
    "            funcToOpt = lambda x : (-1)*posterior(n,p,k,a,b,np.insert(w1,i,x),rho)\n",
    "            res, val1, msg = opt.fmin_l_bfgs_b(funcToOpt, np.array([w[i]]),approx_grad=True, bounds = [(0,+inf)])\n",
    "            w = np.insert(w1,i,res)\n",
    "        if abs(val1-val) < eps:\n",
    "            return w, val1\n",
    "        else:\n",
    "            val = val1\n",
    "        print(val)"
   ]
  },
  {
   "cell_type": "markdown",
   "metadata": {},
   "source": [
    "### Global Optimization"
   ]
  },
  {
   "cell_type": "code",
   "execution_count": 7,
   "metadata": {},
   "outputs": [],
   "source": [
    "def globalOpt(n,p,k,a,b,rho):\n",
    "    w0 = 10*np.random.rand(n*p)\n",
    "    functionToOpt = lambda w : (-1)*posterior(n,p,k,a,b,w,rho)\n",
    "    result = opt.fmin_l_bfgs_b(functionToOpt, w0,approx_grad=True, bounds = [(0.000000001, +inf) for i in range(n*p)])\n",
    "    return result"
   ]
  },
  {
   "cell_type": "code",
   "execution_count": 8,
   "metadata": {},
   "outputs": [],
   "source": [
    "def globalOptCorrection(n,p,k,rho):\n",
    "    w0 = 10*np.random.rand((n+1)*p + 1)\n",
    "    functionToOpt = lambda w : (-1)*posterior(n,p,k,w,rho)\n",
    "    result = opt.fmin_l_bfgs_b(functionToOpt, w0,approx_grad=True, bounds = [(0.000000001, +inf) for i in range((n+1)*p + 1)])\n",
    "    return result"
   ]
  },
  {
   "cell_type": "markdown",
   "metadata": {},
   "source": [
    "### Test on simulated Data"
   ]
  },
  {
   "cell_type": "markdown",
   "metadata": {},
   "source": [
    "#### Data Generation"
   ]
  },
  {
   "cell_type": "code",
   "execution_count": 33,
   "metadata": {},
   "outputs": [],
   "source": [
    "def drawGamma(a,b,n):\n",
    "    return np.random.gamma(a,b,n)\n",
    "\n",
    "def drawGammaCorr(a,listB, n):\n",
    "    p = listB.shape[0]\n",
    "    cur = np.random.gamma(a,listB[0],n)\n",
    "    for i in range(p-1):\n",
    "        np.concatenate((cur, np.random.gamma(a,listB[i+1],n).T))\n",
    "    return cur\n",
    "    \n",
    "    \n",
    "    \n",
    "    \n",
    "def computeStrength(n,p,w):\n",
    "    w1 = w.reshape((n,p))\n",
    "    return (np.array([strength(i,j,p,w1) if i != j else 0 for i in range(n) for j in range(n)])).reshape((n,n))\n",
    "def computeRho(strengths,n,K):\n",
    "    rho = np.zeros((n,K), dtype = int)\n",
    "    for i in range(n):\n",
    "        strength_i = strengths[i]\n",
    "        strength_i_normalized = (1/(sum(strength_i)))*strength_i\n",
    "        strength_i_cumulated = [(sum(strength_i_normalized[:(j+1)])) for j in range(n)]\n",
    "        for j in range(K):\n",
    "            r = np.random.rand()\n",
    "            k = 0\n",
    "            val = strength_i_cumulated[0]\n",
    "            while r > val:\n",
    "                k += 1\n",
    "                val = strength_i_cumulated[k]\n",
    "            rho[i,j] = k\n",
    "            strengths[i,k] = 0\n",
    "            strength_i = strengths[i]\n",
    "            strengh_i_nomalized = (1/(sum(strength_i)))*strength_i\n",
    "            strength_i_cumulated = [(sum(strength_i_normalized[:(l+1)])) for l in range(n)]\n",
    "    return rho\n",
    "def normalizeStrength(n,strengths):\n",
    "    for i in range(n):\n",
    "        strengths[i] = (1/sum(strengths[i]))*strengths[i]\n",
    "    return strengths"
   ]
  },
  {
   "cell_type": "code",
   "execution_count": 38,
   "metadata": {},
   "outputs": [
    {
     "ename": "AttributeError",
     "evalue": "'list' object has no attribute 'T'",
     "output_type": "error",
     "traceback": [
      "\u001b[0;31m---------------------------------------------------------------------------\u001b[0m",
      "\u001b[0;31mAttributeError\u001b[0m                            Traceback (most recent call last)",
      "\u001b[0;32m<ipython-input-38-fb848a01f942>\u001b[0m in \u001b[0;36m<module>\u001b[0;34m\u001b[0m\n\u001b[1;32m      1\u001b[0m \u001b[0mL\u001b[0m \u001b[0;34m=\u001b[0m \u001b[0;34m[\u001b[0m\u001b[0;36m1\u001b[0m\u001b[0;34m,\u001b[0m\u001b[0;36m2\u001b[0m\u001b[0;34m,\u001b[0m\u001b[0;36m3\u001b[0m\u001b[0;34m,\u001b[0m\u001b[0;36m4\u001b[0m\u001b[0;34m]\u001b[0m\u001b[0;34m\u001b[0m\u001b[0;34m\u001b[0m\u001b[0m\n\u001b[0;32m----> 2\u001b[0;31m \u001b[0mL\u001b[0m\u001b[0;34m.\u001b[0m\u001b[0mT\u001b[0m\u001b[0;34m\u001b[0m\u001b[0;34m\u001b[0m\u001b[0m\n\u001b[0m",
      "\u001b[0;31mAttributeError\u001b[0m: 'list' object has no attribute 'T'"
     ]
    }
   ],
   "source": [
    "L = [1,2,3,4]\n",
    "L.T"
   ]
  },
  {
   "cell_type": "code",
   "execution_count": 34,
   "metadata": {},
   "outputs": [
    {
     "ename": "AxisError",
     "evalue": "axis 1 is out of bounds for array of dimension 1",
     "output_type": "error",
     "traceback": [
      "\u001b[0;31m---------------------------------------------------------------------------\u001b[0m",
      "\u001b[0;31mAxisError\u001b[0m                                 Traceback (most recent call last)",
      "\u001b[0;32m<ipython-input-34-d2dc4ba95a90>\u001b[0m in \u001b[0;36m<module>\u001b[0;34m\u001b[0m\n\u001b[1;32m      4\u001b[0m \u001b[0ma\u001b[0m \u001b[0;34m=\u001b[0m \u001b[0;36m2\u001b[0m\u001b[0;34m\u001b[0m\u001b[0;34m\u001b[0m\u001b[0m\n\u001b[1;32m      5\u001b[0m \u001b[0mb\u001b[0m \u001b[0;34m=\u001b[0m \u001b[0;36m1\u001b[0m\u001b[0;34m\u001b[0m\u001b[0;34m\u001b[0m\u001b[0m\n\u001b[0;32m----> 6\u001b[0;31m \u001b[0mw\u001b[0m \u001b[0;34m=\u001b[0m \u001b[0mdrawGammaCorr\u001b[0m\u001b[0;34m(\u001b[0m\u001b[0ma\u001b[0m\u001b[0;34m,\u001b[0m\u001b[0mnp\u001b[0m\u001b[0;34m.\u001b[0m\u001b[0marray\u001b[0m\u001b[0;34m(\u001b[0m\u001b[0;34m[\u001b[0m\u001b[0;36m1\u001b[0m\u001b[0;34m,\u001b[0m\u001b[0;36m10\u001b[0m\u001b[0;34m,\u001b[0m\u001b[0;36m100\u001b[0m\u001b[0;34m]\u001b[0m\u001b[0;34m)\u001b[0m\u001b[0;34m,\u001b[0m\u001b[0mn\u001b[0m\u001b[0;34m)\u001b[0m\u001b[0;34m\u001b[0m\u001b[0;34m\u001b[0m\u001b[0m\n\u001b[0m\u001b[1;32m      7\u001b[0m \u001b[0mprint\u001b[0m\u001b[0;34m(\u001b[0m\u001b[0mw\u001b[0m\u001b[0;34m)\u001b[0m\u001b[0;34m\u001b[0m\u001b[0;34m\u001b[0m\u001b[0m\n",
      "\u001b[0;32m<ipython-input-33-845e2d4c6e01>\u001b[0m in \u001b[0;36mdrawGammaCorr\u001b[0;34m(a, listB, n)\u001b[0m\n\u001b[1;32m      6\u001b[0m     \u001b[0mcur\u001b[0m \u001b[0;34m=\u001b[0m \u001b[0mnp\u001b[0m\u001b[0;34m.\u001b[0m\u001b[0mrandom\u001b[0m\u001b[0;34m.\u001b[0m\u001b[0mgamma\u001b[0m\u001b[0;34m(\u001b[0m\u001b[0ma\u001b[0m\u001b[0;34m,\u001b[0m\u001b[0mlistB\u001b[0m\u001b[0;34m[\u001b[0m\u001b[0;36m0\u001b[0m\u001b[0;34m]\u001b[0m\u001b[0;34m,\u001b[0m\u001b[0mn\u001b[0m\u001b[0;34m)\u001b[0m\u001b[0;34m.\u001b[0m\u001b[0mT\u001b[0m\u001b[0;34m\u001b[0m\u001b[0;34m\u001b[0m\u001b[0m\n\u001b[1;32m      7\u001b[0m     \u001b[0;32mfor\u001b[0m \u001b[0mi\u001b[0m \u001b[0;32min\u001b[0m \u001b[0mrange\u001b[0m\u001b[0;34m(\u001b[0m\u001b[0mp\u001b[0m\u001b[0;34m-\u001b[0m\u001b[0;36m1\u001b[0m\u001b[0;34m)\u001b[0m\u001b[0;34m:\u001b[0m\u001b[0;34m\u001b[0m\u001b[0;34m\u001b[0m\u001b[0m\n\u001b[0;32m----> 8\u001b[0;31m         \u001b[0mnp\u001b[0m\u001b[0;34m.\u001b[0m\u001b[0mconcatenate\u001b[0m\u001b[0;34m(\u001b[0m\u001b[0;34m(\u001b[0m\u001b[0mcur\u001b[0m\u001b[0;34m,\u001b[0m \u001b[0mnp\u001b[0m\u001b[0;34m.\u001b[0m\u001b[0mrandom\u001b[0m\u001b[0;34m.\u001b[0m\u001b[0mgamma\u001b[0m\u001b[0;34m(\u001b[0m\u001b[0ma\u001b[0m\u001b[0;34m,\u001b[0m\u001b[0mlistB\u001b[0m\u001b[0;34m[\u001b[0m\u001b[0mi\u001b[0m\u001b[0;34m+\u001b[0m\u001b[0;36m1\u001b[0m\u001b[0;34m]\u001b[0m\u001b[0;34m,\u001b[0m\u001b[0mn\u001b[0m\u001b[0;34m)\u001b[0m\u001b[0;34m.\u001b[0m\u001b[0mT\u001b[0m\u001b[0;34m)\u001b[0m\u001b[0;34m,\u001b[0m \u001b[0maxis\u001b[0m \u001b[0;34m=\u001b[0m \u001b[0;36m1\u001b[0m\u001b[0;34m)\u001b[0m\u001b[0;34m\u001b[0m\u001b[0;34m\u001b[0m\u001b[0m\n\u001b[0m\u001b[1;32m      9\u001b[0m     \u001b[0;32mreturn\u001b[0m \u001b[0mcur\u001b[0m\u001b[0;34m\u001b[0m\u001b[0;34m\u001b[0m\u001b[0m\n\u001b[1;32m     10\u001b[0m \u001b[0;34m\u001b[0m\u001b[0m\n",
      "\u001b[0;31mAxisError\u001b[0m: axis 1 is out of bounds for array of dimension 1"
     ]
    }
   ],
   "source": [
    "n = 15\n",
    "p = 3\n",
    "k = 3\n",
    "a = 2\n",
    "b = 1\n",
    "w = drawGammaCorr(a,np.array([1,10,100]),n)\n",
    "print(w)"
   ]
  },
  {
   "cell_type": "code",
   "execution_count": null,
   "metadata": {},
   "outputs": [],
   "source": [
    "n = 15\n",
    "p = 3\n",
    "k = 3\n",
    "a = 2\n",
    "b = 1\n",
    "w = drawGamma(a,b,n*p)\n",
    "strengths = computeStrength(n,p,w)\n",
    "rho = computeRho(strengths,n,k)"
   ]
  },
  {
   "cell_type": "markdown",
   "metadata": {},
   "source": [
    "### Optimization Simulated Data"
   ]
  },
  {
   "cell_type": "code",
   "execution_count": null,
   "metadata": {},
   "outputs": [],
   "source": [
    "def AE(w1,w2,n):\n",
    "    return (sum(map(lambda couple : abs(couple[0]-couple[1]) ,zip(w1,w2))))/n\n",
    "\n",
    "def rankingGap(w1,w2,n):\n",
    "    rk1 = [i for i in range(n)]\n",
    "    rk2 = [i for i in range(n)]\n",
    "    rk1 = sorted(rk1, key=lambda i: w1[i])\n",
    "    rk2 = sorted(rk2, key=lambda i: w2[i])\n",
    "    print(rk1)\n",
    "    print(rk2)\n",
    "    rk2 = [rk2.index(i) for i in rk1]\n",
    "    return (sum(map(lambda couple : abs(couple[0]-couple[1]) ,zip([i for i in range(n)],rk2))))/n"
   ]
  },
  {
   "cell_type": "markdown",
   "metadata": {},
   "source": [
    "#### Test Coordinate Optimization"
   ]
  },
  {
   "cell_type": "code",
   "execution_count": null,
   "metadata": {
    "scrolled": false
   },
   "outputs": [],
   "source": [
    "eps = 0.000001\n",
    "result = optimizeCoor(n,p,k,a,b,rho,eps)"
   ]
  },
  {
   "cell_type": "markdown",
   "metadata": {},
   "source": [
    "#### Test Global Opti"
   ]
  },
  {
   "cell_type": "code",
   "execution_count": null,
   "metadata": {
    "scrolled": true
   },
   "outputs": [],
   "source": [
    "resultGlobal = globalOpt(n,p,k,a,b,rho)\n",
    "print(resultGlobal)"
   ]
  },
  {
   "cell_type": "markdown",
   "metadata": {},
   "source": [
    "### Result Obtained"
   ]
  },
  {
   "cell_type": "markdown",
   "metadata": {},
   "source": [
    "#### Plot generated"
   ]
  },
  {
   "cell_type": "code",
   "execution_count": null,
   "metadata": {
    "scrolled": true
   },
   "outputs": [],
   "source": [
    "numInd = 0\n",
    "strengthEstimated = normalizeStrength(n,computeStrength(n,p,result[0]))\n",
    "strengths = normalizeStrength(n,computeStrength(n,p,w))\n",
    "strengthEstimated = strengthEstimated.reshape((n*n,))\n",
    "strengths = strengths.reshape((n*n,))\n",
    "strengthGlb = normalizeStrength(n,computeStrength(n,p,resultGlobal[0]))\n",
    "strengthGlb = strengthGlb.reshape((n*n,))\n",
    "plt.plot([i for i in range(n)], strengths[numInd*n:(numInd+1)*n], '-b' ,label = 'Data initially sampled')\n",
    "plt.plot([i for i in range(n)], strengthEstimated[numInd*n:(numInd+1)*n], '-r' , label = 'Coordinate Estimation')\n",
    "plt.plot([i for i in range(n)], strengthGlb[numInd*n:(numInd+1)*n], '-g' ,label = 'Global optimization Estimation')\n",
    "plt.legend()\n",
    "#plt.title(\"Estimation of the link between the first individual with the others\")\n",
    "plt.savefig(\"LambdaEstimation\")\n",
    "plt.show()\n",
    "print(\"Ranking Gap Coordinate\", rankingGap(strengths[numInd*n:(numInd+1)*n],strengthEstimated[numInd*n:(numInd+1)*n],n))\n",
    "print(\"Ranking Gap Global\", rankingGap(strengths[numInd*n:(numInd+1)*n],strengthGlb[numInd*n:(numInd+1)*n],n))\n",
    "\n",
    "print(\"AE Coordinate\", AE(strengths[numInd*n:(numInd+1)*n],strengthEstimated[numInd*n:(numInd+1)*n],n))\n",
    "print(\"AE Global\", AE(strengths[numInd*n:(numInd+1)*n],strengthGlb[numInd*n:(numInd+1)*n],n))"
   ]
  },
  {
   "cell_type": "markdown",
   "metadata": {},
   "source": [
    "#### Graph Comparison"
   ]
  },
  {
   "cell_type": "code",
   "execution_count": null,
   "metadata": {},
   "outputs": [],
   "source": [
    "g = Graph(directed=True)\n",
    "g.add_vertices(n)\n",
    "comm = w.reshape((n,p))\n",
    "for i in range(n):\n",
    "    listToSort = [i for i in range(n)]\n",
    "    listStrengthOrigin_i = strengths[i*n : (i+1)*n]\n",
    "    listSorted = sorted(listToSort, key=lambda x: listStrengthOrigin_i[x])\n",
    "    listSorted.reverse()\n",
    "    print(listSorted)\n",
    "    for j in range(k):\n",
    "        g.add_edge(i,listSorted[j], width=j+1)\n",
    "g.vs[\"label\"] = [i + 1 for i in range(n)]\n",
    "colors = [\"red\", \"green\", (0.02, 0.6, 0.96)]\n",
    "g.vs[\"color\"] = [colors[np.argmax(comm[i])] for i in range(n)]\n",
    "out = plot(g)\n",
    "out.save(\"OriginalPlot.png\")\n",
    "out"
   ]
  },
  {
   "cell_type": "code",
   "execution_count": null,
   "metadata": {},
   "outputs": [],
   "source": [
    "g = Graph(directed=True)\n",
    "g.add_vertices(n)\n",
    "for i in range(n):\n",
    "    for j in range(k):\n",
    "        g.add_edge(i,rho[i,j], width=j+1)\n",
    "g.vs[\"label\"] = [i + 1 for i in range(n)]\n",
    "colors = [\"red\", \"green\", (0.02, 0.6, 0.96)]\n",
    "g.vs[\"color\"] = [colors[np.argmax((resultGlobal[0].reshape((n,p)))[i])] for i in range(n)]\n",
    "out = plot(g)\n",
    "out.save(\"OptimizationPlot.png\")\n",
    "out"
   ]
  },
  {
   "cell_type": "markdown",
   "metadata": {},
   "source": [
    "## Test on Sampson's Monks dataset"
   ]
  },
  {
   "cell_type": "markdown",
   "metadata": {},
   "source": [
    "#### Import Data"
   ]
  },
  {
   "cell_type": "code",
   "execution_count": null,
   "metadata": {},
   "outputs": [],
   "source": [
    "(listData,listLabel) = generateDataSet()\n",
    "arr1 = listData[0]\n",
    "arr2 = listData[1]\n",
    "arr3 = listData[2]\n",
    "(n,p) = arr1.shape\n",
    "print(arr1)\n",
    "print(arr2)\n",
    "print(arr3)"
   ]
  },
  {
   "cell_type": "code",
   "execution_count": null,
   "metadata": {},
   "outputs": [],
   "source": [
    "finalArray = np.zeros((n,p))\n",
    "for i in range(n):\n",
    "    for j in range(p):\n",
    "        if arr1[i][j] != 0 or arr2[i][j] != 0 or arr3[i][j] != 0:\n",
    "            finalArray[i][j] = 1\n",
    "g = Graph(directed=True)\n",
    "g.add_vertices(n)\n",
    "for i in range(n):\n",
    "    for j in range(p):\n",
    "        if finalArray[i][j] == 1:\n",
    "            g.add_edge(i,j, width= 2)\n",
    "g.vs[\"label\"] = listLabel\n",
    "colors = [\"red\", \"green\", \"blue\"]\n",
    "g.vs[\"color\"] = [\"Grey\"]\n",
    "plot(g)"
   ]
  },
  {
   "cell_type": "code",
   "execution_count": null,
   "metadata": {},
   "outputs": [],
   "source": [
    "n = 18\n",
    "k = 3\n",
    "a = 2\n",
    "b = 1\n",
    "p = 3\n",
    "rho = np.zeros((n,3), dtype = int)\n",
    "for i in range(n):\n",
    "    for j in range(k):\n",
    "        rho[i][j] = (arr3[i].tolist()).index(j+1)\n",
    "print(rho)"
   ]
  },
  {
   "cell_type": "code",
   "execution_count": null,
   "metadata": {},
   "outputs": [],
   "source": [
    "resultGlobalSam = globalOpt(n,p,k,a,b,rho)\n",
    "print(resultGlobalSam)"
   ]
  },
  {
   "cell_type": "code",
   "execution_count": null,
   "metadata": {},
   "outputs": [],
   "source": [
    "eps = 0.000001\n",
    "result = optimizeCoor(n,p,k,a,b,rho,eps)"
   ]
  },
  {
   "cell_type": "code",
   "execution_count": null,
   "metadata": {},
   "outputs": [],
   "source": [
    "print(result)"
   ]
  },
  {
   "cell_type": "code",
   "execution_count": null,
   "metadata": {},
   "outputs": [],
   "source": [
    "numInd = 0\n",
    "strengthEstimated = normalizeStrength(n,computeStrength(n,p,result[0]))\n",
    "strengthEstimated = strengthEstimated.reshape((n*n,))\n",
    "strengthGlb = normalizeStrength(n,computeStrength(n,p,resultGlobalSam[0]))\n",
    "strengthGlb = strengthGlb.reshape((n*n,))\n",
    "plt.plot([i for i in range(n)], strengthEstimated[numInd*n:(numInd+1)*n], '-r' , label = 'Coordinate Estimation')\n",
    "plt.plot([i for i in range(n)], strengthGlb[numInd*n:(numInd+1)*n], '-g' ,label = 'Global optimization Estimation')\n",
    "plt.legend()\n",
    "#plt.title(\"Estimation of the link between the first individual with the others\")\n",
    "#plt.savefig(\"LambdaEstimation\")\n",
    "#plt.show()\n",
    "print(\"Ranking Gap Coordinate\", rankingGap(strengths[numInd*n:(numInd+1)*n],strengthEstimated[numInd*n:(numInd+1)*n],n))\n",
    "print(\"Ranking Gap Global\", rankingGap(strengths[numInd*n:(numInd+1)*n],strengthGlb[numInd*n:(numInd+1)*n],n))\n",
    "\n",
    "print(\"AE Coordinate\", AE(strengths[numInd*n:(numInd+1)*n],strengthEstimated[numInd*n:(numInd+1)*n],n))\n",
    "print(\"AE Global\", AE(strengths[numInd*n:(numInd+1)*n],strengthGlb[numInd*n:(numInd+1)*n],n))"
   ]
  },
  {
   "cell_type": "code",
   "execution_count": null,
   "metadata": {},
   "outputs": [],
   "source": [
    "g = Graph(directed=True)\n",
    "g.add_vertices(n)\n",
    "for i in range(n):\n",
    "    for j in range(k):\n",
    "        g.add_edge(i,rho[i,j], width=j+1)\n",
    "g.vs[\"label\"] = [i + 1 for i in range(n)]\n",
    "colors = [\"red\", \"green\", (0.02, 0.6, 0.96)]\n",
    "g.vs[\"color\"] = [colors[np.argmax((resultGlobalSam[0].reshape((n,p)))[i])] for i in range(n)]\n",
    "out = plot(g)\n",
    "out.save(\"OptimizationPlotSam.png\")\n",
    "out"
   ]
  }
 ],
 "metadata": {
  "kernelspec": {
   "display_name": "Python 3",
   "language": "python",
   "name": "python3"
  },
  "language_info": {
   "codemirror_mode": {
    "name": "ipython",
    "version": 3
   },
   "file_extension": ".py",
   "mimetype": "text/x-python",
   "name": "python",
   "nbconvert_exporter": "python",
   "pygments_lexer": "ipython3",
   "version": "3.6.7"
  }
 },
 "nbformat": 4,
 "nbformat_minor": 2
}
